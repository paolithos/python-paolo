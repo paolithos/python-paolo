{
 "cells": [
  {
   "cell_type": "code",
   "execution_count": 14,
   "metadata": {},
   "outputs": [],
   "source": [
    "input_header = ['index', 'data_time', 'c_open', 'c_high', 'c_low', 'c_close', 'c_volume'] \n",
    "\n",
    "input_corretora = [[1,\"2017-01-03 00:00:00\", 1.23476, 1.23476, 1.22817, 1.22822, 885, 'vermelho'],\n",
    "                   [2,\"2017-01-03 00:01:00\", 1.22822, 1.22828, 1.22809, 1.22822, 444, 'branco'],\n",
    "                   [3,\"2017-01-03 00:02:00\", 1.22822, 1.22823, 1.22807, 1.22821, 688, 'vermelho'],\n",
    "                   [4,\"2017-01-03 00:03:00\", 1.22821, 1.22821, 1.22801, 1.22815, 645, 'vermelho']]"
   ]
  },
  {
   "cell_type": "code",
   "execution_count": 20,
   "metadata": {},
   "outputs": [
    {
     "name": "stdout",
     "output_type": "stream",
     "text": [
      "dentro do if vermelho\n",
      "dentro do in branco\n",
      "dentro do if vermelho\n"
     ]
    }
   ],
   "source": [
    "for count, input_row in enumerate(input_corretora):\n",
    "    if count > 0:\n",
    "        linha_anterior = input_corretora[count-1]\n",
    "        \n",
    "        if ((linha_anterior[-1] == 'vermelho') and ((input_row[3] < linha_anterior[2]) and (input_row[3] > linha_anterior[4]))):\n",
    "            print 'dentro do if vermelho'\n",
    "            \n",
    "        elif ((linha_anterior[-1] == 'branco') and (input_row[3] >= linha_anterior[2])):\n",
    "            print 'dentro do in branco'\n",
    " "
   ]
  },
  {
   "cell_type": "code",
   "execution_count": null,
   "metadata": {},
   "outputs": [],
   "source": []
  },
  {
   "cell_type": "code",
   "execution_count": null,
   "metadata": {},
   "outputs": [],
   "source": []
  }
 ],
 "metadata": {
  "kernelspec": {
   "display_name": "Python 2",
   "language": "python",
   "name": "python2"
  },
  "language_info": {
   "codemirror_mode": {
    "name": "ipython",
    "version": 2
   },
   "file_extension": ".py",
   "mimetype": "text/x-python",
   "name": "python",
   "nbconvert_exporter": "python",
   "pygments_lexer": "ipython2",
   "version": "2.7.10"
  }
 },
 "nbformat": 4,
 "nbformat_minor": 2
}
