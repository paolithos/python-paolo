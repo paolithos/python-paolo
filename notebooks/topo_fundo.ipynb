{
 "cells": [
  {
   "cell_type": "code",
   "execution_count": 11,
   "metadata": {},
   "outputs": [],
   "source": [
    "input_header = ['index', 'data_time', 'c_open', 'c_high', 'c_low', 'c_close', 'c_volume'] \n",
    "#                   0     1date_time         2c_open  3c_high  4c_low   5c_close  6\n",
    "input_corretora = [[\"2017-01-03 00:00:00\", 1.23476, 1.23476, 1.22817, 1.22822, 885],\n",
    "                   [\"2017-01-03 00:01:00\", 1.22822, 1.22828, 1.22809, 1.22822, 444],\n",
    "                   [\"2017-01-03 00:02:00\", 1.22817, 1.22823, 1.22807, 1.22822, 688],\n",
    "                   [\"2017-01-03 00:03:00\", 1.22821, 1.22821, 1.22801, 1.22815, 645]]"
   ]
  },
  {
   "cell_type": "code",
   "execution_count": 12,
   "metadata": {},
   "outputs": [],
   "source": [
    "def candle_color(raw_candle_list):\n",
    "    \"\"\" Identificar o tipo (cor) do candle \"\"\"\n",
    "\n",
    "    for row in raw_candle_list:\n",
    "\n",
    "        if row[1] > row[4]:\n",
    "            row.append('vermelho')\n",
    "        elif row[1] < row[4]:\n",
    "            row.append('verde')\n",
    "        else:\n",
    "            row.append('branco')\n",
    "    \n",
    "    return raw_candle_list"
   ]
  },
  {
   "cell_type": "code",
   "execution_count": 13,
   "metadata": {},
   "outputs": [
    {
     "name": "stdout",
     "output_type": "stream",
     "text": [
      "[['2017-01-03 00:00:00', 1.23476, 1.23476, 1.22817, 1.22822, 885, 'vermelho'], ['2017-01-03 00:01:00', 1.22822, 1.22828, 1.22809, 1.22822, 444, 'branco'], ['2017-01-03 00:02:00', 1.22817, 1.22823, 1.22807, 1.22822, 688, 'verde'], ['2017-01-03 00:03:00', 1.22821, 1.22821, 1.22801, 1.22815, 645, 'vermelho']]\n"
     ]
    }
   ],
   "source": [
    "candle_list = candle_color(input_corretora)\n",
    "\n",
    "print candle_list"
   ]
  },
  {
   "cell_type": "code",
   "execution_count": 3,
   "metadata": {},
   "outputs": [
    {
     "name": "stdout",
     "output_type": "stream",
     "text": [
      "[[1, '2017-01-03 00:00:00', 1.23476, 1.23476, 1.22817, 1.22822, 885, 'vermelho'], [2, '2017-01-03 00:01:00', 1.22822, 1.22828, 1.22809, 1.22822, 444, 'branco'], [3, '2017-01-03 00:02:00', 1.22817, 1.22823, 1.22807, 1.22822, 688, 'verde'], [4, '2017-01-03 00:03:00', 1.22821, 1.22821, 1.22801, 1.22815, 645, 'vermelho']]\n"
     ]
    }
   ],
   "source": [
    "print input_corretora"
   ]
  },
  {
   "cell_type": "code",
   "execution_count": 22,
   "metadata": {},
   "outputs": [],
   "source": [
    "def get_suport_resist_t_f(candle_list):\n",
    "    \"\"\" \n",
    "    Comparar se o c_high do candle atual está entre o c_open e o c_close do dia anterior \n",
    "    output: c_high do candle vermelho do dia anterior\n",
    "    \"\"\"\n",
    "    \n",
    "    output = []\n",
    "\n",
    "    for index, row in enumerate(candle_list):\n",
    "        if index > 0:\n",
    "            candle_before = candle_list[index-1]\n",
    "\n",
    "            if ((candle_before[-1] == 'vermelho') and ((row[2] < candle_before[1]) and (row[2] > candle_before[4]))):\n",
    "                output.append([index-1, candle_before[3]])\n",
    "\n",
    "            elif ((candle_before[-1] == 'branco') and (row[2] >= candle_before[1])):\n",
    "                output.append([index-1, candle_before[3]])\n",
    "\n",
    "            elif ((candle_before[-1] == 'verde') and ((row[2] > candle_before[1]) and (row[2] < candle_before[4]))):\n",
    "                output.append([index-1, candle_before[3]])\n",
    "                \n",
    "    return output"
   ]
  },
  {
   "cell_type": "code",
   "execution_count": 23,
   "metadata": {},
   "outputs": [
    {
     "name": "stdout",
     "output_type": "stream",
     "text": [
      "[[0, 1.22817], [1, 1.22809], [2, 1.22807]]\n"
     ]
    }
   ],
   "source": [
    "suport_resist_t_f = get_suport_resist_t_f(candle_list)\n",
    "\n",
    "print suport_resist_t_f"
   ]
  },
  {
   "cell_type": "code",
   "execution_count": 14,
   "metadata": {},
   "outputs": [],
   "source": [
    "#                         0date_time             1c_open  2c_high  3c_low   4c_close 5volume\n",
    "input_corretora_fundo = [['2018-11-13 10:03:00', 1.28889, 1.28889, 1.28855, 1.28867, 269],\n",
    "                         ['2018-11-13 10:04:00', 1.28868, 1.28872, 1.28816, 1.28818, 566],\n",
    "                         ['2018-11-13 10:05:00', 1.28818, 1.28820, 1.28778, 1.28799, 786],\n",
    "                         ['2018-11-13 10:06:00', 1.28797, 1.28832, 1.28788, 1.28798, 664],\n",
    "                         ['2018-11-13 10:07:00', 1.28803, 1.28819, 1.28787, 1.28809, 608],\n",
    "                         ['2018-11-13 10:08:00', 1.28812, 1.28817, 1.28779, 1.28794, 544],\n",
    "                         ['2018-11-13 10:09:00', 1.28793, 1.28807, 1.28786, 1.28790, 430],\n",
    "                         ['2018-11-13 10:10:00', 1.28787, 1.28794, 1.28746, 1.28757, 665],\n",
    "                         ['2018-11-13 10:11:00', 1.28756, 1.28766, 1.28739, 1.28762, 401],\n",
    "                         ['2018-11-13 10:12:00', 1.28761, 1.28804, 1.28754, 1.28798, 718]]"
   ]
  },
  {
   "cell_type": "code",
   "execution_count": 15,
   "metadata": {},
   "outputs": [
    {
     "name": "stdout",
     "output_type": "stream",
     "text": [
      "[['2018-11-13 10:03:00', 1.28889, 1.28889, 1.28855, 1.28867, 269, 'vermelho'], ['2018-11-13 10:04:00', 1.28868, 1.28872, 1.28816, 1.28818, 566, 'vermelho'], ['2018-11-13 10:05:00', 1.28818, 1.2882, 1.28778, 1.28799, 786, 'vermelho'], ['2018-11-13 10:06:00', 1.28797, 1.28832, 1.28788, 1.28798, 664, 'verde'], ['2018-11-13 10:07:00', 1.28803, 1.28819, 1.28787, 1.28809, 608, 'verde'], ['2018-11-13 10:08:00', 1.28812, 1.28817, 1.28779, 1.28794, 544, 'vermelho'], ['2018-11-13 10:09:00', 1.28793, 1.28807, 1.28786, 1.2879, 430, 'vermelho'], ['2018-11-13 10:10:00', 1.28787, 1.28794, 1.28746, 1.28757, 665, 'vermelho'], ['2018-11-13 10:11:00', 1.28756, 1.28766, 1.28739, 1.28762, 401, 'verde'], ['2018-11-13 10:12:00', 1.28761, 1.28804, 1.28754, 1.28798, 718, 'verde']]\n"
     ]
    }
   ],
   "source": [
    "candle_list_fundo = candle_color(input_corretora_fundo)\n",
    "\n",
    "print candle_list_fundo"
   ]
  },
  {
   "cell_type": "code",
   "execution_count": 24,
   "metadata": {},
   "outputs": [
    {
     "name": "stdout",
     "output_type": "stream",
     "text": [
      "[[0, 1.28855], [1, 1.28816], [5, 1.28779], [7, 1.28746]]\n"
     ]
    }
   ],
   "source": [
    "suport_resist_t_f_fundo = get_suport_resist_t_f(candle_list_fundo)\n",
    "\n",
    "print suport_resist_t_f_fundo"
   ]
  },
  {
   "cell_type": "code",
   "execution_count": 33,
   "metadata": {},
   "outputs": [
    {
     "name": "stdout",
     "output_type": "stream",
     "text": [
      "('Fundo Fechado', ['2018-11-13 10:12:00', 1.28761, 1.28804, 1.28754, 1.28798, 718, 'verde'])\n"
     ]
    }
   ],
   "source": [
    "\"\"\" \n",
    "Qual candle que tem corpo ou parte do corpo e não é xuxu de ninguem \n",
    "output: resistência/suporte dele\n",
    "\"\"\"\n",
    "\n",
    "ultimo_elem_t_f = suport_resist_t_f_fundo[-1]\n",
    "\n",
    "index_cr = 8\n",
    "\n",
    "index_t_f_inicial = index_cr + 1\n",
    "\n",
    "index_range = range(index_t_f_inicial, len(candle_list_fundo))\n",
    "\n",
    "for index in index_range:\n",
    "    if ultimo_elem_t_f[1] < candle_list_fundo[index][4]:\n",
    "        print('Fundo Fechado', candle_list_fundo[index])\n"
   ]
  },
  {
   "cell_type": "code",
   "execution_count": 29,
   "metadata": {},
   "outputs": [
    {
     "data": {
      "text/plain": [
       "[9, 10, 11, 12, 13, 14, 15, 16, 17, 18, 19]"
      ]
     },
     "execution_count": 29,
     "metadata": {},
     "output_type": "execute_result"
    }
   ],
   "source": []
  },
  {
   "cell_type": "code",
   "execution_count": null,
   "metadata": {},
   "outputs": [],
   "source": []
  }
 ],
 "metadata": {
  "kernelspec": {
   "display_name": "Python 2",
   "language": "python",
   "name": "python2"
  },
  "language_info": {
   "codemirror_mode": {
    "name": "ipython",
    "version": 2
   },
   "file_extension": ".py",
   "mimetype": "text/x-python",
   "name": "python",
   "nbconvert_exporter": "python",
   "pygments_lexer": "ipython2",
   "version": "2.7.10"
  }
 },
 "nbformat": 4,
 "nbformat_minor": 2
}
