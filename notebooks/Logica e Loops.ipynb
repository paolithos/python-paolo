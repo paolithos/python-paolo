{
 "cells": [
  {
   "cell_type": "markdown",
   "metadata": {},
   "source": [
    "Expressoes Lógicas"
   ]
  },
  {
   "cell_type": "code",
   "execution_count": 3,
   "metadata": {},
   "outputs": [
    {
     "name": "stdout",
     "output_type": "stream",
     "text": [
      "False\n"
     ]
    }
   ],
   "source": [
    "# AND, OR, NOT, ==, !=, >, >=, <, <=, is, in\n",
    "\n",
    "var_true = True\n",
    "\n",
    "var_false = False\n",
    "\n",
    "resultado_logico_and = (True and True) and (False)\n",
    "\n",
    "print(resultado_logico_and)"
   ]
  },
  {
   "cell_type": "code",
   "execution_count": 4,
   "metadata": {},
   "outputs": [
    {
     "name": "stdout",
     "output_type": "stream",
     "text": [
      "True\n"
     ]
    }
   ],
   "source": [
    "resultado_logico_or = (True and True) or (False)\n",
    "\n",
    "print(resultado_logico_or)"
   ]
  },
  {
   "cell_type": "code",
   "execution_count": 5,
   "metadata": {},
   "outputs": [
    {
     "name": "stdout",
     "output_type": "stream",
     "text": [
      "True\n"
     ]
    }
   ],
   "source": [
    "resultado_logico_not = not False\n",
    "\n",
    "print(resultado_logico_not)"
   ]
  },
  {
   "cell_type": "code",
   "execution_count": 6,
   "metadata": {},
   "outputs": [
    {
     "name": "stdout",
     "output_type": "stream",
     "text": [
      "True\n"
     ]
    }
   ],
   "source": [
    "test_var_is_true = var_true is True\n",
    "\n",
    "print(test_var_is_true)"
   ]
  },
  {
   "cell_type": "code",
   "execution_count": 9,
   "metadata": {},
   "outputs": [
    {
     "name": "stdout",
     "output_type": "stream",
     "text": [
      "True\n"
     ]
    }
   ],
   "source": [
    "porcao_da_lista = [2, 3]\n",
    "\n",
    "lista_completa = [[0, 1], [2, 3], [4, 5], [6, 7], [8, 9]]\n",
    "\n",
    "test_in = porcao_da_lista in lista_completa\n",
    "\n",
    "print(test_in)"
   ]
  },
  {
   "cell_type": "code",
   "execution_count": 11,
   "metadata": {},
   "outputs": [
    {
     "name": "stdout",
     "output_type": "stream",
     "text": [
      "False\n"
     ]
    }
   ],
   "source": [
    "porcao_string = 'dc'\n",
    "\n",
    "string_completa = 'abcdefg'\n",
    "\n",
    "test_in_string = porcao_string in string_completa\n",
    "\n",
    "print(test_in_string)"
   ]
  },
  {
   "cell_type": "markdown",
   "metadata": {},
   "source": [
    "IF - ELIF - ELSE"
   ]
  },
  {
   "cell_type": "code",
   "execution_count": null,
   "metadata": {},
   "outputs": [],
   "source": [
    "if x:\n",
    "    # executar codigo se x for verdadeiro\n",
    "elif y:\n",
    "    # executar codigo se x for falso e y for verdadeiro\n",
    "elif z:\n",
    "    # executar codigo se x for falso, y for falso e z for verdadeiro\n",
    "else:\n",
    "    # executar o codigo se x, y e z forem falsos"
   ]
  },
  {
   "cell_type": "code",
   "execution_count": null,
   "metadata": {},
   "outputs": [],
   "source": [
    "if x:\n",
    "    # executar o codigo se x for verdadiero\n",
    "if y:\n",
    "    # executar o codigo se y for verdadeiro (independente do resultado de x)\n",
    "if z:\n",
    "    # executar o codigo se z for verdadeiro (independente do resultado de x e y)\n",
    "else:\n",
    "    # executar o codigo se z for falso (independente do resultado de x e y)        "
   ]
  },
  {
   "cell_type": "code",
   "execution_count": 18,
   "metadata": {},
   "outputs": [
    {
     "name": "stdout",
     "output_type": "stream",
     "text": [
      "lista vazia\n"
     ]
    }
   ],
   "source": [
    "lista_vazia = []\n",
    "\n",
    "if lista_vazia:\n",
    "    print('????')\n",
    "else:\n",
    "    print('lista vazia')"
   ]
  },
  {
   "cell_type": "code",
   "execution_count": null,
   "metadata": {},
   "outputs": [],
   "source": [
    "if len(lista) > 0: # Nao é o mais pythonico\n",
    "\n",
    "if lista: # mais pythonico"
   ]
  },
  {
   "cell_type": "code",
   "execution_count": 16,
   "metadata": {},
   "outputs": [
    {
     "name": "stdout",
     "output_type": "stream",
     "text": [
      "lista cheia\n"
     ]
    }
   ],
   "source": [
    "lista_cheia = [1, 2]\n",
    "\n",
    "if lista_cheia:\n",
    "    print('lista cheia')\n",
    "else:\n",
    "    print('???')"
   ]
  },
  {
   "cell_type": "code",
   "execution_count": 19,
   "metadata": {},
   "outputs": [],
   "source": [
    "# nao é possivel executar operacoes booleanas com listas fora do if"
   ]
  },
  {
   "cell_type": "markdown",
   "metadata": {},
   "source": [
    "Loop For"
   ]
  },
  {
   "cell_type": "code",
   "execution_count": null,
   "metadata": {},
   "outputs": [],
   "source": [
    "for ____:    "
   ]
  },
  {
   "cell_type": "code",
   "execution_count": 20,
   "metadata": {},
   "outputs": [
    {
     "name": "stdout",
     "output_type": "stream",
     "text": [
      "[0, 1, 2, 3, 4, 5, 6, 7, 8, 9]\n",
      "0\n",
      "1\n",
      "2\n",
      "3\n",
      "4\n",
      "5\n",
      "6\n",
      "7\n",
      "8\n",
      "9\n"
     ]
    }
   ],
   "source": [
    "print(range(10))\n",
    "\n",
    "for numero in range(10):\n",
    "    print(numero)"
   ]
  },
  {
   "cell_type": "code",
   "execution_count": null,
   "metadata": {},
   "outputs": [],
   "source": [
    "# Dictionaries\n",
    "\n",
    "dictionary = {\"key\": \"value\"}"
   ]
  },
  {
   "cell_type": "code",
   "execution_count": 21,
   "metadata": {},
   "outputs": [
    {
     "name": "stdout",
     "output_type": "stream",
     "text": [
      "3\n",
      "17\n",
      "10\n"
     ]
    }
   ],
   "source": [
    "dicionario_para_itearacao = {\"cachorro\": 10,\n",
    "                            \"gato\": 3,\n",
    "                            \"passaro\": 17}\n",
    "\n",
    "# Mais pythonico\n",
    "for values in dicionario_para_itearacao.values():\n",
    "    print(values)"
   ]
  },
  {
   "cell_type": "code",
   "execution_count": 23,
   "metadata": {},
   "outputs": [
    {
     "name": "stdout",
     "output_type": "stream",
     "text": [
      "gato\n",
      "passaro\n",
      "cachorro\n"
     ]
    }
   ],
   "source": [
    "# Mais pythonico\n",
    "for keys in dicionario_para_itearacao.keys():\n",
    "    print(keys)"
   ]
  },
  {
   "cell_type": "code",
   "execution_count": 25,
   "metadata": {},
   "outputs": [
    {
     "name": "stdout",
     "output_type": "stream",
     "text": [
      "gato\n",
      "3\n",
      "passaro\n",
      "17\n",
      "cachorro\n",
      "10\n"
     ]
    }
   ],
   "source": [
    "# Mais pythonico\n",
    "for keys, values in dicionario_para_itearacao.items():\n",
    "    print(keys)\n",
    "    print(values)"
   ]
  },
  {
   "cell_type": "code",
   "execution_count": 27,
   "metadata": {},
   "outputs": [
    {
     "name": "stdout",
     "output_type": "stream",
     "text": [
      "('gato', 3)\n",
      "('passaro', 17)\n",
      "('cachorro', 10)\n"
     ]
    }
   ],
   "source": [
    "for item in dicionario_para_itearacao.items():\n",
    "    print(item)"
   ]
  },
  {
   "cell_type": "code",
   "execution_count": 28,
   "metadata": {},
   "outputs": [
    {
     "name": "stdout",
     "output_type": "stream",
     "text": [
      "gato\n",
      "3\n",
      "passaro\n",
      "17\n",
      "cachorro\n",
      "10\n"
     ]
    }
   ],
   "source": [
    "for item in dicionario_para_itearacao.items():\n",
    "    print(item[0])\n",
    "    print(item[1])"
   ]
  },
  {
   "cell_type": "code",
   "execution_count": null,
   "metadata": {},
   "outputs": [],
   "source": [
    "break\n",
    "\n",
    "O break te tira do loop em que vc esta"
   ]
  },
  {
   "cell_type": "code",
   "execution_count": 34,
   "metadata": {},
   "outputs": [
    {
     "name": "stdout",
     "output_type": "stream",
     "text": [
      "cachorro\n",
      "cachorro\n"
     ]
    }
   ],
   "source": [
    "for key, value in dicionario_para_itearacao.items():\n",
    "    print(keys)\n",
    "    \n",
    "    if value > 3:\n",
    "        break"
   ]
  },
  {
   "cell_type": "markdown",
   "metadata": {},
   "source": [
    "While Loop"
   ]
  },
  {
   "cell_type": "code",
   "execution_count": null,
   "metadata": {},
   "outputs": [],
   "source": [
    "while x:\n",
    "    # a cada iteracao o while testa se x é vedadeiro e executa o loop caso positivo\n",
    "    "
   ]
  },
  {
   "cell_type": "code",
   "execution_count": 35,
   "metadata": {},
   "outputs": [
    {
     "name": "stdout",
     "output_type": "stream",
     "text": [
      "0\n",
      "1\n",
      "2\n",
      "3\n",
      "4\n"
     ]
    }
   ],
   "source": [
    "contador = 0\n",
    "\n",
    "while contador < 5:\n",
    "    print(contador)\n",
    "    \n",
    "    contador += 1"
   ]
  },
  {
   "cell_type": "code",
   "execution_count": 36,
   "metadata": {},
   "outputs": [
    {
     "name": "stdout",
     "output_type": "stream",
     "text": [
      "0\n",
      "1\n",
      "2\n",
      "3\n",
      "4\n"
     ]
    }
   ],
   "source": [
    "contador = 0\n",
    "\n",
    "while True:\n",
    "    print(contador)\n",
    "    \n",
    "    contador += 1\n",
    "    \n",
    "    if contador >= 5:\n",
    "        break"
   ]
  },
  {
   "cell_type": "code",
   "execution_count": null,
   "metadata": {},
   "outputs": [],
   "source": []
  }
 ],
 "metadata": {
  "kernelspec": {
   "display_name": "Python 2",
   "language": "python",
   "name": "python2"
  },
  "language_info": {
   "codemirror_mode": {
    "name": "ipython",
    "version": 2
   },
   "file_extension": ".py",
   "mimetype": "text/x-python",
   "name": "python",
   "nbconvert_exporter": "python",
   "pygments_lexer": "ipython2",
   "version": "2.7.10"
  }
 },
 "nbformat": 4,
 "nbformat_minor": 2
}
